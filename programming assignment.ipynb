{
 "cells": [
  {
   "cell_type": "markdown",
   "metadata": {},
   "source": [
    "Numpy.random is a tool used in python to generate a random selection of numbers or random datasets. There are various differentiations of numpy.random which generate a vast variety of random numbers. Numpy is generally imported as np (an abreviation of numpy), which is an advantage saving us the time to type numpy each time we use it. Please see below."
   ]
  },
  {
   "cell_type": "code",
   "execution_count": 3,
   "metadata": {
    "collapsed": true
   },
   "outputs": [],
   "source": [
    "import numpy as np"
   ]
  },
  {
   "cell_type": "markdown",
   "metadata": {},
   "source": [
    "Numpy.random (np.random) does not work on it's own and returns an error. It has to be used along with a function."
   ]
  },
  {
   "cell_type": "code",
   "execution_count": 5,
   "metadata": {},
   "outputs": [
    {
     "ename": "TypeError",
     "evalue": "'module' object is not callable",
     "output_type": "error",
     "traceback": [
      "\u001b[1;31m----------------------------------------------------\u001b[0m",
      "\u001b[1;31mTypeError\u001b[0m          Traceback (most recent call last)",
      "\u001b[1;32m<ipython-input-5-a86cc8e5c0a5>\u001b[0m in \u001b[0;36m<module>\u001b[1;34m()\u001b[0m\n\u001b[1;32m----> 1\u001b[1;33m \u001b[0mnp\u001b[0m\u001b[1;33m.\u001b[0m\u001b[0mrandom\u001b[0m\u001b[1;33m(\u001b[0m\u001b[1;36m7\u001b[0m\u001b[1;33m)\u001b[0m\u001b[1;33m\u001b[0m\u001b[0m\n\u001b[0m",
      "\u001b[1;31mTypeError\u001b[0m: 'module' object is not callable"
     ]
    }
   ],
   "source": [
    "np.random(7)"
   ]
  },
  {
   "cell_type": "markdown",
   "metadata": {},
   "source": [
    "Numpy.random.rand generates a random set of numbers between 0 and 1 but not including 1. In the example below 7 random numbers between 0 and 1 but not including 1 are generated."
   ]
  },
  {
   "cell_type": "code",
   "execution_count": 4,
   "metadata": {},
   "outputs": [
    {
     "data": {
      "text/plain": [
       "array([ 0.78415043,  0.03869653,  0.33152355,  0.59740614,  0.90540789,\n",
       "        0.48886153,  0.28001127])"
      ]
     },
     "execution_count": 4,
     "metadata": {},
     "output_type": "execute_result"
    }
   ],
   "source": [
    "np.random.rand(7)"
   ]
  },
  {
   "cell_type": "markdown",
   "metadata": {},
   "source": [
    "Below 20 random numbers between 0 and 1 not including 1 are produced. When using np.random.rand(x), X is equivalent to the amount of random numbers generated."
   ]
  },
  {
   "cell_type": "code",
   "execution_count": 4,
   "metadata": {},
   "outputs": [
    {
     "data": {
      "text/plain": [
       "array([ 0.37917758,  0.28448135,  0.47878006,  0.00293097,  0.6312022 ,\n",
       "        0.82709011,  0.10570382,  0.58499114,  0.3115457 ,  0.29705997,\n",
       "        0.0297122 ,  0.6244791 ,  0.70020955,  0.34630853,  0.07069719,\n",
       "        0.0622925 ,  0.80863467,  0.53400819,  0.02526513,  0.43174013])"
      ]
     },
     "execution_count": 4,
     "metadata": {},
     "output_type": "execute_result"
    }
   ],
   "source": [
    "np.random.rand(20)"
   ]
  },
  {
   "cell_type": "markdown",
   "metadata": {},
   "source": [
    "Np.random.rand(a,b) generates a random selection of numbers between 0 and 1 not including 1, however (a) represents the number of rows and (b) represents the amount of random numbers in that row. Please see below where 3 rows with 4 numbers in each row are generated."
   ]
  },
  {
   "cell_type": "code",
   "execution_count": 6,
   "metadata": {},
   "outputs": [
    {
     "data": {
      "text/plain": [
       "array([[ 0.94634915,  0.05739633,  0.7632177 ,  0.77783606],\n",
       "       [ 0.31012589,  0.36351215,  0.35428922,  0.11070302],\n",
       "       [ 0.42042899,  0.60693288,  0.3635991 ,  0.37560407]])"
      ]
     },
     "execution_count": 6,
     "metadata": {},
     "output_type": "execute_result"
    }
   ],
   "source": [
    "np.random.rand(3, 4)"
   ]
  },
  {
   "cell_type": "code",
   "execution_count": 9,
   "metadata": {},
   "outputs": [
    {
     "data": {
      "text/plain": [
       "6.105090282189843"
      ]
     },
     "execution_count": 9,
     "metadata": {},
     "output_type": "execute_result"
    }
   ],
   "source": [
    "np.random.normal(5)"
   ]
  },
  {
   "cell_type": "markdown",
   "metadata": {},
   "source": [
    "Numpy.random is a tool used in python to generate a random selection of numbers or random datasets. There are various differentiations of numpy.random.\n",
    "\n",
    "Numpy.random.rand generates a random set of numbers between 0 and 1 but not including 1.Numpy.random is a tool used in python to generate a random selection of numbers or random datasets. Please see example below:\n"
   ]
  },
  {
   "cell_type": "code",
   "execution_count": null,
   "metadata": {
    "collapsed": true
   },
   "outputs": [],
   "source": [
    "numpy.random.rand(2)"
   ]
  },
  {
   "cell_type": "code",
   "execution_count": 8,
   "metadata": {},
   "outputs": [
    {
     "data": {
      "text/plain": [
       "54.879331866531096"
      ]
     },
     "execution_count": 8,
     "metadata": {},
     "output_type": "execute_result"
    }
   ],
   "source": [
    "np.random.normal(55)"
   ]
  },
  {
   "cell_type": "code",
   "execution_count": 7,
   "metadata": {},
   "outputs": [
    {
     "data": {
      "text/plain": [
       "<function RandomState.normal>"
      ]
     },
     "execution_count": 7,
     "metadata": {},
     "output_type": "execute_result"
    }
   ],
   "source": [
    "np.random.normal"
   ]
  },
  {
   "cell_type": "code",
   "execution_count": 15,
   "metadata": {},
   "outputs": [
    {
     "data": {
      "text/plain": [
       "15.897931699520822"
      ]
     },
     "execution_count": 15,
     "metadata": {},
     "output_type": "execute_result"
    }
   ],
   "source": [
    "np.random.normal(14)"
   ]
  },
  {
   "cell_type": "code",
   "execution_count": null,
   "metadata": {
    "collapsed": true
   },
   "outputs": [],
   "source": []
  },
  {
   "cell_type": "code",
   "execution_count": 12,
   "metadata": {},
   "outputs": [
    {
     "data": {
      "text/plain": [
       "array([ 0.28585378,  0.06555019,  0.48148501,  0.97964273,  0.03200957,\n",
       "        0.30440784])"
      ]
     },
     "execution_count": 12,
     "metadata": {},
     "output_type": "execute_result"
    }
   ],
   "source": [
    "#np.rand.rand(x) generates an array of x amount of numbers between 0 and 1 but not including 1. \n",
    "#In the examples below an array of 6 and 25 random numbers are created.\n",
    "np.random.rand(6)\n"
   ]
  },
  {
   "cell_type": "code",
   "execution_count": 13,
   "metadata": {},
   "outputs": [
    {
     "data": {
      "text/plain": [
       "array([ 0.59235392,  0.64948817,  0.31929259,  0.97095249,  0.59901688,\n",
       "        0.13240716,  0.02440977,  0.07336042,  0.39259937,  0.81463549,\n",
       "        0.82269928,  0.04522743,  0.41226354,  0.88256934,  0.82765764,\n",
       "        0.45059467,  0.09357349,  0.62689294,  0.93477768,  0.65780961,\n",
       "        0.71222106,  0.36970427,  0.7925234 ,  0.88421789,  0.86186634])"
      ]
     },
     "execution_count": 13,
     "metadata": {},
     "output_type": "execute_result"
    }
   ],
   "source": [
    "np.random.rand(25)"
   ]
  },
  {
   "cell_type": "code",
   "execution_count": 11,
   "metadata": {},
   "outputs": [
    {
     "data": {
      "text/plain": [
       "238"
      ]
     },
     "execution_count": 11,
     "metadata": {},
     "output_type": "execute_result"
    }
   ],
   "source": [
    "np.random.choice(522)"
   ]
  },
  {
   "cell_type": "code",
   "execution_count": 14,
   "metadata": {},
   "outputs": [
    {
     "data": {
      "text/plain": [
       "array([ 0.96479596,  0.5344789 ])"
      ]
     },
     "execution_count": 14,
     "metadata": {},
     "output_type": "execute_result"
    }
   ],
   "source": [
    "np.random.random(2)"
   ]
  },
  {
   "cell_type": "code",
   "execution_count": 15,
   "metadata": {},
   "outputs": [
    {
     "data": {
      "text/plain": [
       "array([ 1.79439602])"
      ]
     },
     "execution_count": 15,
     "metadata": {},
     "output_type": "execute_result"
    }
   ],
   "source": [
    "np.random.randn(1)"
   ]
  },
  {
   "cell_type": "code",
   "execution_count": 16,
   "metadata": {},
   "outputs": [
    {
     "data": {
      "text/plain": [
       "array([ 0.550734  , -0.18034681,  0.80284627, -1.24284468,  1.63733878,\n",
       "       -0.68293737,  0.38127806,  1.0571557 ,  0.94770794, -0.05081263,\n",
       "       -0.38903497,  0.884108  ,  0.87866014,  0.40176155, -1.71374184,\n",
       "        1.22984641,  0.71580236, -0.11965335,  0.60906513,  1.03034347,\n",
       "        1.43499204,  1.63523153, -0.06334411,  0.43603724, -0.62634484,\n",
       "       -0.60532002, -1.10576321, -0.1146511 ,  0.21301772,  0.68223705,\n",
       "       -0.54963561,  0.7841084 ,  1.05713897, -0.61716735, -1.53127262,\n",
       "       -0.15254565,  0.26689651, -1.10792242,  1.0203468 , -0.78500111,\n",
       "        0.29479748, -0.13312054, -0.60257886,  0.57643977, -0.02167002])"
      ]
     },
     "execution_count": 16,
     "metadata": {},
     "output_type": "execute_result"
    }
   ],
   "source": [
    "np.random.randn(45)"
   ]
  },
  {
   "cell_type": "markdown",
   "metadata": {},
   "source": [
    "Np.random.bytes(x) returns random bytes. The higher the value of x the longer the random bytes printed out. Please see exmples below where x is 3 and a small random byte is printed, while when x is 56 a much longer output is produced."
   ]
  },
  {
   "cell_type": "code",
   "execution_count": 17,
   "metadata": {},
   "outputs": [
    {
     "data": {
      "text/plain": [
       "b'\\x95\\xcax'"
      ]
     },
     "execution_count": 17,
     "metadata": {},
     "output_type": "execute_result"
    }
   ],
   "source": [
    "np.random.bytes(3)"
   ]
  },
  {
   "cell_type": "code",
   "execution_count": 18,
   "metadata": {},
   "outputs": [
    {
     "data": {
      "text/plain": [
       "b'i\\xdao\\x97VZ\\xdc\\x1e\\xde\\x1dkF'"
      ]
     },
     "execution_count": 18,
     "metadata": {},
     "output_type": "execute_result"
    }
   ],
   "source": [
    "np.random.bytes(12)"
   ]
  },
  {
   "cell_type": "code",
   "execution_count": 20,
   "metadata": {},
   "outputs": [
    {
     "data": {
      "text/plain": [
       "<function RandomState.bytes>"
      ]
     },
     "execution_count": 20,
     "metadata": {},
     "output_type": "execute_result"
    }
   ],
   "source": [
    "np.random.bytes"
   ]
  },
  {
   "cell_type": "code",
   "execution_count": 23,
   "metadata": {},
   "outputs": [
    {
     "data": {
      "text/plain": [
       "b'~\\xbb1\\xfa\\xcc\\x8cM\\xe4\\xcf\\xdb\\xd3\\xc9V7\\xb1m\\xe3e\\x01\\x93\\x1eZ\\xe7\\x97\\xb5\\xc6e\\n\\x9c;\\xa4|\\xe8\\x01@\\x8a\\xf4\\xba-\\xa3\\x1d\\x0e\\xac\\xf9bcb\\x05\\xfa\\xf4\\xd1\\x12\\xe4\\x87>\\x8f'"
      ]
     },
     "execution_count": 23,
     "metadata": {},
     "output_type": "execute_result"
    }
   ],
   "source": [
    "np.random.bytes(56)"
   ]
  },
  {
   "cell_type": "code",
   "execution_count": null,
   "metadata": {
    "collapsed": true
   },
   "outputs": [],
   "source": []
  }
 ],
 "metadata": {
  "kernelspec": {
   "display_name": "Python 3",
   "language": "python",
   "name": "python3"
  }
 },
 "nbformat": 4,
 "nbformat_minor": 2
}
